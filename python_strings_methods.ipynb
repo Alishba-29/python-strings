{
  "nbformat": 4,
  "nbformat_minor": 0,
  "metadata": {
    "colab": {
      "provenance": [],
      "gpuType": "T4",
      "authorship_tag": "ABX9TyOd9YiiFxaKrRajy/IRtOAq",
      "include_colab_link": true
    },
    "kernelspec": {
      "name": "python3",
      "display_name": "Python 3"
    },
    "language_info": {
      "name": "python"
    },
    "accelerator": "GPU"
  },
  "cells": [
    {
      "cell_type": "markdown",
      "metadata": {
        "id": "view-in-github",
        "colab_type": "text"
      },
      "source": [
        "<a href=\"https://colab.research.google.com/github/Alishba-29/python-strings/blob/main/python_strings_methods.ipynb\" target=\"_parent\"><img src=\"https://colab.research.google.com/assets/colab-badge.svg\" alt=\"Open In Colab\"/></a>"
      ]
    },
    {
      "cell_type": "markdown",
      "source": [
        "### **PYTHON**\n",
        "            Python is a high-level, interpreted programming language known for its simplicity and readability. It was created by Guido van Rossum and first released in 1991. Python's design philosophy emphasizes code readability and syntax that allows programmers to express concepts.\n"
      ],
      "metadata": {
        "id": "n8v1L_J2J4a5"
      }
    },
    {
      "cell_type": "markdown",
      "source": [
        "## **Python Strings**\n",
        "      A Python string is a sequence of characters enclosed within quotes, used to represent text. Strings in Python can be created using single quotes (' '), double quotes (\" \"), or triple quotes (''' ''' or \"\"\" \"\"\") for multi-line strings.\n"
      ],
      "metadata": {
        "id": "9WThwUWKK3S6"
      }
    },
    {
      "cell_type": "markdown",
      "source": [
        "# **Python String Methods**\n",
        "         Python string methods are built-in functions that allow you to perform various operations on strings, such as modifying, analyzing, or formatting the text. These methods are called on string objects and return new strings or other data types without altering the original string (since strings are immutable).\n",
        "\n",
        "*Example*:Methods like capatalize(),casefold(),center(),lower() etc."
      ],
      "metadata": {
        "id": "z1dKlQ5cMxIM"
      }
    },
    {
      "cell_type": "markdown",
      "source": [
        "# **Methods**"
      ],
      "metadata": {
        "id": "o3IQR4KdOTyd"
      }
    },
    {
      "cell_type": "markdown",
      "source": [
        "#1.  capatalize()\n",
        "The capitalize() method in Python is used to convert the first character of a string to uppercase and the rest of the characters to lowercase."
      ],
      "metadata": {
        "id": "DtaatmHQOjDz"
      }
    },
    {
      "cell_type": "code",
      "source": [
        "name:str=\"alishba\"\n",
        "print(name.capitalize())"
      ],
      "metadata": {
        "colab": {
          "base_uri": "https://localhost:8080/"
        },
        "id": "-FMZ7IuLO625",
        "outputId": "a826c54e-39cc-432c-81b3-b6490d1c54c7"
      },
      "execution_count": null,
      "outputs": [
        {
          "output_type": "stream",
          "name": "stdout",
          "text": [
            "Alishba\n"
          ]
        }
      ]
    },
    {
      "cell_type": "markdown",
      "source": [
        "# 2.  casefold()\n",
        "The casefold() method in Python is used to convert a string to lowercase. It is more comprehensive in handling different case conversions, especially with non-English alphabets."
      ],
      "metadata": {
        "id": "z8j7zjbBPi0i"
      }
    },
    {
      "cell_type": "code",
      "source": [
        "name=\"ALISHBA\"\n",
        "print(name.casefold())"
      ],
      "metadata": {
        "colab": {
          "base_uri": "https://localhost:8080/"
        },
        "id": "-fDBLBLIQSfv",
        "outputId": "aa1ef61f-0a7f-4782-b853-c3607f7cea57"
      },
      "execution_count": null,
      "outputs": [
        {
          "output_type": "stream",
          "name": "stdout",
          "text": [
            "alishba\n"
          ]
        }
      ]
    },
    {
      "cell_type": "markdown",
      "source": [
        "# 3. center()\n",
        "The center() method in Python is used to center-align a string within a specified width by padding it with a specified character."
      ],
      "metadata": {
        "id": "GRZYjHatQjnY"
      }
    },
    {
      "cell_type": "code",
      "source": [
        "name=\"ALISHBA\"\n",
        "print(name.center(25,\"*\"))"
      ],
      "metadata": {
        "colab": {
          "base_uri": "https://localhost:8080/"
        },
        "id": "gX5NnufgQ2OP",
        "outputId": "27285271-0c42-4de4-8679-c0378723e80a"
      },
      "execution_count": null,
      "outputs": [
        {
          "output_type": "stream",
          "name": "stdout",
          "text": [
            "*********ALISHBA*********\n"
          ]
        }
      ]
    },
    {
      "cell_type": "markdown",
      "source": [
        "# 4. upper()\n",
        "The upper() method in Python is used to convert all the characters in a string to uppercase.\n",
        "\n"
      ],
      "metadata": {
        "id": "BgMFm05HRD6h"
      }
    },
    {
      "cell_type": "code",
      "source": [
        "name=\"alishba\"\n",
        "print(name.upper())"
      ],
      "metadata": {
        "colab": {
          "base_uri": "https://localhost:8080/"
        },
        "id": "pxEYuXQZRQcm",
        "outputId": "c5450977-1574-476d-e6e8-459cb6baf3cd"
      },
      "execution_count": null,
      "outputs": [
        {
          "output_type": "stream",
          "name": "stdout",
          "text": [
            "ALISHBA\n"
          ]
        }
      ]
    },
    {
      "cell_type": "markdown",
      "source": [
        "# 5. lower()\n",
        "The lower() method in Python is used to convert all the characters in a string to lowercase.\n",
        "\n"
      ],
      "metadata": {
        "id": "sRf6M5skRY7P"
      }
    },
    {
      "cell_type": "code",
      "source": [
        "name=\"ALISHBA\"\n",
        "print(name.lower())\n"
      ],
      "metadata": {
        "colab": {
          "base_uri": "https://localhost:8080/"
        },
        "id": "SoyEDgAzRirX",
        "outputId": "a4fa3f7e-c082-403c-b729-7a1b1f65fd42"
      },
      "execution_count": null,
      "outputs": [
        {
          "output_type": "stream",
          "name": "stdout",
          "text": [
            "alishba\n"
          ]
        }
      ]
    },
    {
      "cell_type": "markdown",
      "source": [
        "# 6. title()\n",
        "The title() method in Python is used to capitalize the first letter of each word in a string and make all other letters lowercase. This method is useful for formatting titles or headings"
      ],
      "metadata": {
        "id": "HjGGfoevRt6z"
      }
    },
    {
      "cell_type": "code",
      "source": [
        "name=\"aLIShba\"\n",
        "print(name.title())"
      ],
      "metadata": {
        "colab": {
          "base_uri": "https://localhost:8080/"
        },
        "id": "chGL428ZSQFG",
        "outputId": "32bdaed9-2147-4a6a-fa96-efdf1d5f8c50"
      },
      "execution_count": null,
      "outputs": [
        {
          "output_type": "stream",
          "name": "stdout",
          "text": [
            "Alishba\n"
          ]
        }
      ]
    },
    {
      "cell_type": "markdown",
      "source": [
        "# 7. find()\n",
        "The find() method in Python is used to locate the position of a substring within a string. It returns the lowest index where the substring is found. If the substring is not found, it returns -1.\n",
        "\n"
      ],
      "metadata": {
        "id": "EFnTLLEbSZce"
      }
    },
    {
      "cell_type": "code",
      "source": [
        "str=\"Beautiful\"\n",
        "print(str.find(\"f\"))"
      ],
      "metadata": {
        "colab": {
          "base_uri": "https://localhost:8080/"
        },
        "id": "D7uGO4V6SwFq",
        "outputId": "936e33b7-2d4c-48ab-bd87-e46029cd62e2"
      },
      "execution_count": null,
      "outputs": [
        {
          "output_type": "stream",
          "name": "stdout",
          "text": [
            "6\n"
          ]
        }
      ]
    },
    {
      "cell_type": "markdown",
      "source": [
        "# 8. count()\n",
        "The count() method in Python is used to count the number of occurrences of a substring within a string."
      ],
      "metadata": {
        "id": "kEF3cjENTPek"
      }
    },
    {
      "cell_type": "code",
      "source": [
        "text = \"hi alishba, hi fatima\"\n",
        "count_hi= text.count(\"hi\")\n",
        "print(count_hi)"
      ],
      "metadata": {
        "colab": {
          "base_uri": "https://localhost:8080/"
        },
        "id": "Fbk5IYKpTjRy",
        "outputId": "5d4d1a88-50b5-4f03-ae42-4f852c120e1a"
      },
      "execution_count": null,
      "outputs": [
        {
          "output_type": "stream",
          "name": "stdout",
          "text": [
            "2\n"
          ]
        }
      ]
    },
    {
      "cell_type": "markdown",
      "source": [
        "# 9. index()\n",
        "The index() method in Python is used to find the index of the first occurrence of a substring within a string."
      ],
      "metadata": {
        "id": "t-lRBGj5Twza"
      }
    },
    {
      "cell_type": "code",
      "source": [
        "str=\"Python\"\n",
        "print(str.index(\"o\"))"
      ],
      "metadata": {
        "colab": {
          "base_uri": "https://localhost:8080/"
        },
        "id": "QrEpidyZUDgf",
        "outputId": "5214f450-06f8-4a6d-d356-cd1e62b45f90"
      },
      "execution_count": null,
      "outputs": [
        {
          "output_type": "stream",
          "name": "stdout",
          "text": [
            "4\n"
          ]
        }
      ]
    },
    {
      "cell_type": "markdown",
      "source": [
        "# 10. isalpha()\n",
        "The isalpha() method in Python is used to check if all the characters in a string are alphabetic (i.e., letters). It returns True if all characters are alphabetic and the string is not empty; otherwise, it returns False."
      ],
      "metadata": {
        "id": "XaQD8_yWUVvw"
      }
    },
    {
      "cell_type": "code",
      "source": [
        "str=\"Pakistan\"\n",
        "print(str.isalpha())"
      ],
      "metadata": {
        "colab": {
          "base_uri": "https://localhost:8080/"
        },
        "id": "dT41L6gIUqdb",
        "outputId": "6165157e-8283-4038-9ed1-84b1e2fbd1b3"
      },
      "execution_count": null,
      "outputs": [
        {
          "output_type": "stream",
          "name": "stdout",
          "text": [
            "True\n"
          ]
        }
      ]
    },
    {
      "cell_type": "code",
      "source": [
        "str=\"Pakistan123\"\n",
        "print(str.isalpha())"
      ],
      "metadata": {
        "colab": {
          "base_uri": "https://localhost:8080/"
        },
        "id": "AK_HChIkU0m_",
        "outputId": "e0c97895-406a-4e44-ff59-4f69c95852b2"
      },
      "execution_count": null,
      "outputs": [
        {
          "output_type": "stream",
          "name": "stdout",
          "text": [
            "False\n"
          ]
        }
      ]
    },
    {
      "cell_type": "markdown",
      "source": [
        "# 11. isdigit()\n",
        "The isdigit() method in Python is used to check if all the characters in a string are digits. It returns True if all characters are digits and the string is not empty; otherwise, it returns False."
      ],
      "metadata": {
        "id": "q62kIrDdU8X7"
      }
    },
    {
      "cell_type": "code",
      "source": [
        "str=\"1234\"\n",
        "print(str.isdigit())"
      ],
      "metadata": {
        "colab": {
          "base_uri": "https://localhost:8080/"
        },
        "id": "963Jm3orVTue",
        "outputId": "9032f356-b2ef-44cf-fd5f-a2ab339228cc"
      },
      "execution_count": null,
      "outputs": [
        {
          "output_type": "stream",
          "name": "stdout",
          "text": [
            "True\n"
          ]
        }
      ]
    },
    {
      "cell_type": "code",
      "source": [
        "str=\"abc1234\"\n",
        "print(str.isdigit())"
      ],
      "metadata": {
        "colab": {
          "base_uri": "https://localhost:8080/"
        },
        "id": "nMssha-XVeUZ",
        "outputId": "9c9c9481-f2f6-4c81-9333-0c0c6e2bd256"
      },
      "execution_count": null,
      "outputs": [
        {
          "output_type": "stream",
          "name": "stdout",
          "text": [
            "False\n"
          ]
        }
      ]
    },
    {
      "cell_type": "markdown",
      "source": [
        "# 12. isalnum()\n",
        "The isalnum() method in Python checks if all characters in a string are alphanumeric, meaning they are either letters or digits. It returns True if all characters are alphanumeric and the string is not empty; otherwise, it returns False."
      ],
      "metadata": {
        "id": "etwMNFP4Vnik"
      }
    },
    {
      "cell_type": "code",
      "source": [
        "str = \"Pakistan123\"\n",
        "print(str.isalnum())"
      ],
      "metadata": {
        "colab": {
          "base_uri": "https://localhost:8080/"
        },
        "id": "ZQXFAy0JV0PJ",
        "outputId": "75dab83e-5bb8-4c8a-b0db-500cd7ecac66"
      },
      "execution_count": null,
      "outputs": [
        {
          "output_type": "stream",
          "name": "stdout",
          "text": [
            "True\n"
          ]
        }
      ]
    },
    {
      "cell_type": "code",
      "source": [
        "G = \"Pakistan\"\n",
        "print(G.isalnum())"
      ],
      "metadata": {
        "colab": {
          "base_uri": "https://localhost:8080/"
        },
        "id": "5T3DyfQaV8nl",
        "outputId": "2e3b4655-e414-4156-bdcf-64084184113a"
      },
      "execution_count": null,
      "outputs": [
        {
          "output_type": "stream",
          "name": "stdout",
          "text": [
            "True\n"
          ]
        }
      ]
    },
    {
      "cell_type": "markdown",
      "source": [
        "# 13. startswith()\n",
        "The startswith() method in Python checks if a string starts with a specified prefix. It returns True if the string begins with the given prefix, and False otherwise."
      ],
      "metadata": {
        "id": "pnU6GswYWDBX"
      }
    },
    {
      "cell_type": "code",
      "source": [
        "Name=\"My name is Alishba\"\n",
        "print(Name.startswith(\"My\"))"
      ],
      "metadata": {
        "colab": {
          "base_uri": "https://localhost:8080/"
        },
        "id": "3GGywEFdWTCy",
        "outputId": "99c14651-42c2-4bab-943d-2e7e82c11f8f"
      },
      "execution_count": null,
      "outputs": [
        {
          "output_type": "stream",
          "name": "stdout",
          "text": [
            "True\n"
          ]
        }
      ]
    },
    {
      "cell_type": "code",
      "source": [
        "Name=\"My name is Alishba\"\n",
        "print(Name.startswith(\"is\"))"
      ],
      "metadata": {
        "colab": {
          "base_uri": "https://localhost:8080/"
        },
        "id": "8nkk1YrsWZ5Z",
        "outputId": "a4105ea2-f9a3-4c3e-bede-629e1f17202f"
      },
      "execution_count": null,
      "outputs": [
        {
          "output_type": "stream",
          "name": "stdout",
          "text": [
            "False\n"
          ]
        }
      ]
    },
    {
      "cell_type": "markdown",
      "source": [
        "# 14. endswith()\n",
        "The endswith() method in Python checks if a string ends with a specified suffix. It returns True if the string ends with the given suffix and False otherwise."
      ],
      "metadata": {
        "id": "pBc5-6ITYKUq"
      }
    },
    {
      "cell_type": "code",
      "source": [
        "str=\"My name is Alishba\"\n",
        "print(str.endswith(\"Alishba\"))"
      ],
      "metadata": {
        "colab": {
          "base_uri": "https://localhost:8080/"
        },
        "id": "igpkVLSUYZW0",
        "outputId": "ddb5cd34-8070-48be-a1d3-b66d82fa4e92"
      },
      "execution_count": null,
      "outputs": [
        {
          "output_type": "stream",
          "name": "stdout",
          "text": [
            "True\n"
          ]
        }
      ]
    },
    {
      "cell_type": "code",
      "source": [
        "str=\"My name is Alishba\"\n",
        "print(str.endswith(\"name\"))"
      ],
      "metadata": {
        "colab": {
          "base_uri": "https://localhost:8080/"
        },
        "id": "uq1y2B4DYiM8",
        "outputId": "f96735fb-157e-48b8-8eaa-01d3f1be17b3"
      },
      "execution_count": null,
      "outputs": [
        {
          "output_type": "stream",
          "name": "stdout",
          "text": [
            "False\n"
          ]
        }
      ]
    },
    {
      "cell_type": "markdown",
      "source": [
        "# 15. isupper()\n",
        "The isupper() method in Python checks if all the characters in a string are uppercase. It returns True if all characters are uppercase and there is at least one letter; otherwise, it returns False."
      ],
      "metadata": {
        "id": "tNRWf1KmYnmL"
      }
    },
    {
      "cell_type": "code",
      "source": [
        "Name=\"ALISHBA\"\n",
        "print(Name.isupper())"
      ],
      "metadata": {
        "colab": {
          "base_uri": "https://localhost:8080/"
        },
        "id": "JATGYffrY3fQ",
        "outputId": "e23baa76-35b2-4438-e64d-908d48c296d6"
      },
      "execution_count": null,
      "outputs": [
        {
          "output_type": "stream",
          "name": "stdout",
          "text": [
            "True\n"
          ]
        }
      ]
    },
    {
      "cell_type": "code",
      "source": [
        "Name=\"alishbA\"\n",
        "print(Name.isupper())"
      ],
      "metadata": {
        "colab": {
          "base_uri": "https://localhost:8080/"
        },
        "id": "7oHeYWE2Y81Q",
        "outputId": "d59e176d-5af1-40c5-d281-07775a186d60"
      },
      "execution_count": null,
      "outputs": [
        {
          "output_type": "stream",
          "name": "stdout",
          "text": [
            "False\n"
          ]
        }
      ]
    },
    {
      "cell_type": "markdown",
      "source": [
        "# 16. islower()\n",
        "The islower() method in Python checks if all the characters in a string are lowercase. It returns True if all characters are lowercase and there is at least one letter; otherwise, it returns False."
      ],
      "metadata": {
        "id": "I7Lj3SWxZB_A"
      }
    },
    {
      "cell_type": "code",
      "source": [
        "Name=\"alishba\"\n",
        "print(Name.islower())"
      ],
      "metadata": {
        "colab": {
          "base_uri": "https://localhost:8080/"
        },
        "id": "syw5gLSLZMnu",
        "outputId": "6424ce1d-911b-4c6a-a649-a0de990aed08"
      },
      "execution_count": null,
      "outputs": [
        {
          "output_type": "stream",
          "name": "stdout",
          "text": [
            "True\n"
          ]
        }
      ]
    },
    {
      "cell_type": "code",
      "source": [
        "Name=\"ALISHBA\"\n",
        "print(Name.islower())"
      ],
      "metadata": {
        "colab": {
          "base_uri": "https://localhost:8080/"
        },
        "id": "2VPmlLaoZUZD",
        "outputId": "d4309e98-10f3-4a01-c520-0ae6d35fc20e"
      },
      "execution_count": null,
      "outputs": [
        {
          "output_type": "stream",
          "name": "stdout",
          "text": [
            "False\n"
          ]
        }
      ]
    },
    {
      "cell_type": "markdown",
      "source": [
        "# 17. istitle()\n",
        "The istitle() method in Python checks if a string is in title case, where the first letter of each word is uppercase and all other letters are lowercase. It returns True if the string is in title case and contains at least one letter; otherwise, it returns False."
      ],
      "metadata": {
        "id": "nPTbwHicZaYW"
      }
    },
    {
      "cell_type": "code",
      "source": [
        "Name=\"India\"\n",
        "print(Name.istitle())"
      ],
      "metadata": {
        "colab": {
          "base_uri": "https://localhost:8080/"
        },
        "id": "3i3BRk-VZ9NC",
        "outputId": "9b5e964b-c3db-4884-f9b4-b3f9ca89130a"
      },
      "execution_count": null,
      "outputs": [
        {
          "output_type": "stream",
          "name": "stdout",
          "text": [
            "True\n"
          ]
        }
      ]
    },
    {
      "cell_type": "code",
      "source": [
        "Name=\"india\"\n",
        "print(Name.istitle())"
      ],
      "metadata": {
        "colab": {
          "base_uri": "https://localhost:8080/"
        },
        "id": "wWSD9XyRau5f",
        "outputId": "557a253a-bc2f-40ad-fb75-44912e304fd0"
      },
      "execution_count": null,
      "outputs": [
        {
          "output_type": "stream",
          "name": "stdout",
          "text": [
            "False\n"
          ]
        }
      ]
    },
    {
      "cell_type": "markdown",
      "source": [
        "# 18. isspace()\n",
        "The isspace() method in Python checks if all the characters in a string are whitespace characters. It returns True if all characters are whitespace and the string is not empty; otherwise, it returns False. Whitespace characters include spaces, tabs, newlines, and other similar characters."
      ],
      "metadata": {
        "id": "7QfMSLf8azpa"
      }
    },
    {
      "cell_type": "code",
      "source": [
        "A=\"       \"\n",
        "print(A.isspace())"
      ],
      "metadata": {
        "colab": {
          "base_uri": "https://localhost:8080/"
        },
        "id": "otXPG_e1bPjU",
        "outputId": "1c72ce2c-1464-4c30-d2bc-305c2e81dafa"
      },
      "execution_count": null,
      "outputs": [
        {
          "output_type": "stream",
          "name": "stdout",
          "text": [
            "True\n"
          ]
        }
      ]
    },
    {
      "cell_type": "code",
      "source": [
        "A=\"\"\n",
        "print(A.isspace())"
      ],
      "metadata": {
        "colab": {
          "base_uri": "https://localhost:8080/"
        },
        "id": "WZpC_rtebV0g",
        "outputId": "72bf7e5e-7987-4e01-bbaa-4c45005c2e4f"
      },
      "execution_count": null,
      "outputs": [
        {
          "output_type": "stream",
          "name": "stdout",
          "text": [
            "False\n"
          ]
        }
      ]
    },
    {
      "cell_type": "markdown",
      "source": [
        "# 19. lstrip()\n",
        "The lstrip() method in Python is used to remove leading characters (from the left side) from a string. By default, it removes whitespace characters such as spaces, tabs, and newlines."
      ],
      "metadata": {
        "id": "zxZdCe86bgCA"
      }
    },
    {
      "cell_type": "code",
      "source": [
        "str=\"ABC\"\n",
        "print(str.lstrip())"
      ],
      "metadata": {
        "colab": {
          "base_uri": "https://localhost:8080/"
        },
        "id": "sLO5oaSyb5JQ",
        "outputId": "dc11f64f-d30f-4cff-e613-44c35a7d574b"
      },
      "execution_count": null,
      "outputs": [
        {
          "output_type": "stream",
          "name": "stdout",
          "text": [
            "A B C '{def}' G H I\n"
          ]
        }
      ]
    },
    {
      "cell_type": "markdown",
      "source": [
        "# 20. rstrip()\n",
        "The rstrip() method in Python is used to remove trailing characters (from the right side) from a string. By default, it removes whitespace characters such as spaces, tabs, and newlines."
      ],
      "metadata": {
        "id": "1sML1QU7cZ76"
      }
    },
    {
      "cell_type": "code",
      "source": [
        "str=\"      ABC       \"\n",
        "print(str.rstrip(\"\"))"
      ],
      "metadata": {
        "colab": {
          "base_uri": "https://localhost:8080/"
        },
        "id": "JoeT-9ZDcwdw",
        "outputId": "e0322efd-1db6-4809-eed8-c11104b50622"
      },
      "execution_count": null,
      "outputs": [
        {
          "output_type": "stream",
          "name": "stdout",
          "text": [
            "  *    ABC       \n"
          ]
        }
      ]
    },
    {
      "cell_type": "markdown",
      "source": [
        "# 21. Strip()\n",
        "The strip() method in Python is used to remove both leading and trailing characters from a string. By default, it removes whitespace characters such as spaces, tabs, and newlines."
      ],
      "metadata": {
        "id": "DHmiJ3u8dZM5"
      }
    },
    {
      "cell_type": "code",
      "source": [
        "A=\"     ABC    \"\n",
        "print(A.strip())"
      ],
      "metadata": {
        "colab": {
          "base_uri": "https://localhost:8080/"
        },
        "id": "XfgC3vvQe79H",
        "outputId": "e9a65682-dce6-4379-bd68-f4116f81b4e4"
      },
      "execution_count": null,
      "outputs": [
        {
          "output_type": "stream",
          "name": "stdout",
          "text": [
            "ABC\n"
          ]
        }
      ]
    },
    {
      "cell_type": "markdown",
      "source": [
        "# 22. Split()\n",
        "The .split() method in Python is used to divide a string into a list of substrings based on a specified delimiter. If no delimiter is provided, it splits the string at any whitespace.\n",
        "\n"
      ],
      "metadata": {
        "id": "NnBy670G4cyY"
      }
    },
    {
      "cell_type": "code",
      "source": [
        "Str=\"I-am-intelligent\"\n",
        "print(Str.split(\"-\"))"
      ],
      "metadata": {
        "colab": {
          "base_uri": "https://localhost:8080/"
        },
        "id": "vam1RgUw5IVs",
        "outputId": "2a2aef02-68b9-4c2c-faa6-25e48f63d7f2"
      },
      "execution_count": null,
      "outputs": [
        {
          "output_type": "stream",
          "name": "stdout",
          "text": [
            "['I', 'am', 'intelligent']\n"
          ]
        }
      ]
    },
    {
      "cell_type": "markdown",
      "source": [
        "# 23. isdecimal()\n",
        "The isdecimal() method in Python is used to check if all the characters in a string are decimal characters. Decimal characters are those that are used to represent numbers in base 10. This includes digits like 0 through 9 but does not include characters such as superscript or subscript digits."
      ],
      "metadata": {
        "id": "hl6ZBonm6hvz"
      }
    },
    {
      "cell_type": "code",
      "source": [
        "str=\"12.34\"\n",
        "print(str.isdecimal())"
      ],
      "metadata": {
        "colab": {
          "base_uri": "https://localhost:8080/"
        },
        "id": "XJWQr3mP8fd2",
        "outputId": "6e4ff4dc-4176-41ac-9c2a-da76132b044b"
      },
      "execution_count": null,
      "outputs": [
        {
          "output_type": "stream",
          "name": "stdout",
          "text": [
            "False\n"
          ]
        }
      ]
    },
    {
      "cell_type": "code",
      "source": [
        "str=\"1234\"\n",
        "print(str.isdecimal())"
      ],
      "metadata": {
        "colab": {
          "base_uri": "https://localhost:8080/"
        },
        "id": "zo-mhA5V8njE",
        "outputId": "8baf426c-62f6-4c7d-dda4-8a6375ff84e5"
      },
      "execution_count": null,
      "outputs": [
        {
          "output_type": "stream",
          "name": "stdout",
          "text": [
            "True\n"
          ]
        }
      ]
    },
    {
      "cell_type": "markdown",
      "source": [
        "# 24. isnumeric()\n",
        "The isnumeric() method in Python checks if all characters in a string are numeric characters. Numeric characters include decimal characters (0-9), numeric characters from other languages or scripts, and special characters like superscripts or subscripts."
      ],
      "metadata": {
        "id": "KsQgVJ8w8w2A"
      }
    },
    {
      "cell_type": "code",
      "source": [
        "str=\"67.89\"\n",
        "print(str.isnumeric())"
      ],
      "metadata": {
        "colab": {
          "base_uri": "https://localhost:8080/"
        },
        "id": "MXgPEkMc9NuX",
        "outputId": "462d1df6-ae35-46f0-995d-6b32c2a3dc0f"
      },
      "execution_count": null,
      "outputs": [
        {
          "output_type": "stream",
          "name": "stdout",
          "text": [
            "False\n"
          ]
        }
      ]
    },
    {
      "cell_type": "code",
      "source": [
        "str=\"6789\"\n",
        "print(str.isnumeric())"
      ],
      "metadata": {
        "colab": {
          "base_uri": "https://localhost:8080/"
        },
        "id": "nBOo_Us-9ZqP",
        "outputId": "d2304a5f-10e1-435d-caf9-d722d64a5dcc"
      },
      "execution_count": null,
      "outputs": [
        {
          "output_type": "stream",
          "name": "stdout",
          "text": [
            "True\n"
          ]
        }
      ]
    },
    {
      "cell_type": "markdown",
      "source": [
        "# 25. expandtabs()\n",
        "The .expandtabs() method in Python is used to replace all tab characters (\\t) in a string with a specified number of spaces."
      ],
      "metadata": {
        "id": "UUyN5ZwU9g_f"
      }
    },
    {
      "cell_type": "code",
      "source": [
        "str=\"Alishba\\tJabbar\"\n",
        "print(str.expandtabs(6))"
      ],
      "metadata": {
        "colab": {
          "base_uri": "https://localhost:8080/"
        },
        "id": "kyORJMMM-Pkm",
        "outputId": "39f127b5-5992-41b7-c31a-6225fe3afab6"
      },
      "execution_count": null,
      "outputs": [
        {
          "output_type": "stream",
          "name": "stdout",
          "text": [
            "Alishba     Jabbar\n"
          ]
        }
      ]
    },
    {
      "cell_type": "markdown",
      "source": [
        "# 26. isidentifier()\n",
        "An identifier in Python is a name used to identify a variable, function, class, or other objects."
      ],
      "metadata": {
        "id": "y-xqxumC_S21"
      }
    },
    {
      "cell_type": "code",
      "source": [
        "str=\"he is a good person\"\n",
        "print(str.isidentifier())"
      ],
      "metadata": {
        "colab": {
          "base_uri": "https://localhost:8080/"
        },
        "id": "WfZV3wc6_tIW",
        "outputId": "e5ecf7e3-c7e2-4633-a307-be2be27df1d1"
      },
      "execution_count": null,
      "outputs": [
        {
          "output_type": "stream",
          "name": "stdout",
          "text": [
            "False\n"
          ]
        }
      ]
    },
    {
      "cell_type": "code",
      "source": [
        "str=\"variable_name\"\n",
        "print(str.isidentifier())"
      ],
      "metadata": {
        "colab": {
          "base_uri": "https://localhost:8080/"
        },
        "id": "ubg3sa6sATTU",
        "outputId": "4f4bd965-631d-4e41-85dd-9a3185e0a68e"
      },
      "execution_count": null,
      "outputs": [
        {
          "output_type": "stream",
          "name": "stdout",
          "text": [
            "True\n"
          ]
        }
      ]
    },
    {
      "cell_type": "markdown",
      "source": [
        "# 27. isprintable()\n",
        "The isprintable() method in Python checks if all characters in a string are printable. Printable characters include letters, digits, punctuation, and whitespace characters (spaces, tabs, newlines, etc.). If the string contains only printable characters and is not empty, it returns True. If it contains any non-printable characters or is empty, it returns False."
      ],
      "metadata": {
        "id": "DZFMw-mfAqpu"
      }
    },
    {
      "cell_type": "code",
      "source": [
        "str=\"Alishba's hair, are so shiny\"\n",
        "print(str.isprintable())"
      ],
      "metadata": {
        "colab": {
          "base_uri": "https://localhost:8080/"
        },
        "id": "cfoKc962BHkI",
        "outputId": "3d481395-690d-40d7-ada3-4a6e349c7c28"
      },
      "execution_count": null,
      "outputs": [
        {
          "output_type": "stream",
          "name": "stdout",
          "text": [
            "True\n"
          ]
        }
      ]
    },
    {
      "cell_type": "code",
      "source": [
        "str=\"Hello\\x01World\"\n",
        "print(str.isprintable())"
      ],
      "metadata": {
        "colab": {
          "base_uri": "https://localhost:8080/"
        },
        "id": "p1TkSnwfBWQR",
        "outputId": "06d74531-bdde-4059-a44b-fe2dda0a7aa0"
      },
      "execution_count": null,
      "outputs": [
        {
          "output_type": "stream",
          "name": "stdout",
          "text": [
            "False\n"
          ]
        }
      ]
    },
    {
      "cell_type": "markdown",
      "source": [
        "# 28. join()\n",
        "The .join() method in Python is used to concatenate a sequence of strings into a single string, with a specified separator between each element."
      ],
      "metadata": {
        "id": "AHDW1DE0CBSe"
      }
    },
    {
      "cell_type": "code",
      "source": [
        "words=(\"Python\",\"strings\",\"methods\")\n",
        "print(\"_\".join(words))"
      ],
      "metadata": {
        "colab": {
          "base_uri": "https://localhost:8080/"
        },
        "id": "RBYlSstgChyE",
        "outputId": "07db676d-5498-4d66-c8ae-399b40348ea2"
      },
      "execution_count": null,
      "outputs": [
        {
          "output_type": "stream",
          "name": "stdout",
          "text": [
            "Python_strings_methods\n"
          ]
        }
      ]
    },
    {
      "cell_type": "markdown",
      "source": [
        "# 29. ljust()\n",
        "The ljust() method in Python is used to left-justify a string in a field of a given width. It pads the string with a specified character (default is a space) on the right to ensure it reaches the desired width."
      ],
      "metadata": {
        "id": "K3nK8d56DKJh"
      }
    },
    {
      "cell_type": "code",
      "source": [
        "str=\"Assalam alaikum\"\n",
        "print(str.ljust(30,\"-\"))"
      ],
      "metadata": {
        "colab": {
          "base_uri": "https://localhost:8080/"
        },
        "id": "05rgKFKQDl-0",
        "outputId": "fabec91e-8d5e-47f6-cc89-aa2963a4f1d6"
      },
      "execution_count": null,
      "outputs": [
        {
          "output_type": "stream",
          "name": "stdout",
          "text": [
            "Assalam alaikum---------------\n"
          ]
        }
      ]
    },
    {
      "cell_type": "markdown",
      "source": [
        "# 30. maketrans()\n",
        "The str.maketrans() method in Python creates a translation table that can be used with the str.translate() method to perform character replacements or deletions in a string."
      ],
      "metadata": {
        "id": "59bMxvaPD8hZ"
      }
    },
    {
      "cell_type": "code",
      "source": [
        "trans = str.maketrans('ABCD', '6789')\n",
        "print(\"ABCDE\".translate(trans))"
      ],
      "metadata": {
        "colab": {
          "base_uri": "https://localhost:8080/"
        },
        "id": "dxlMdsmUHaPY",
        "outputId": "f069b1bf-6981-4d8d-ba2b-c75190602f6a"
      },
      "execution_count": null,
      "outputs": [
        {
          "output_type": "stream",
          "name": "stdout",
          "text": [
            "6789E\n"
          ]
        }
      ]
    },
    {
      "cell_type": "markdown",
      "source": [
        "# 31. partition()\n",
        "The .partition() method in Python splits a string into a tuple of three parts based on a specified separator."
      ],
      "metadata": {
        "id": "yFB8eIdNItid"
      }
    },
    {
      "cell_type": "code",
      "source": [
        "str=\"i am live in tandoallahyar\"\n",
        "print(str.partition(\"in\"))"
      ],
      "metadata": {
        "colab": {
          "base_uri": "https://localhost:8080/"
        },
        "id": "1a-uEhn-JWZm",
        "outputId": "6fc5a9bb-fff4-4f58-bf20-b9597e011aab"
      },
      "execution_count": null,
      "outputs": [
        {
          "output_type": "stream",
          "name": "stdout",
          "text": [
            "('i am live ', 'in', ' tandoallahyar')\n"
          ]
        }
      ]
    },
    {
      "cell_type": "markdown",
      "source": [],
      "metadata": {
        "id": "NieaJQmwKASh"
      }
    },
    {
      "cell_type": "markdown",
      "source": [
        "# 32. removeprefix()\n",
        "The removeprefix() method in Python is used to remove a specified prefix from the beginning of a string. If the string starts with the specified prefix, it returns a new string with the prefix removed. If the string does not start with the specified prefix, it returns the original string unchanged"
      ],
      "metadata": {
        "id": "Fhn-_oWJKTTk"
      }
    },
    {
      "cell_type": "code",
      "source": [
        "str=\"Alishba jabbar\"\n",
        "print(str.removeprefix(\"Alishba\"))"
      ],
      "metadata": {
        "colab": {
          "base_uri": "https://localhost:8080/"
        },
        "id": "SDCQjDb9LmOa",
        "outputId": "b86320c6-43f2-40b9-b6d9-0387276e54c1"
      },
      "execution_count": null,
      "outputs": [
        {
          "output_type": "stream",
          "name": "stdout",
          "text": [
            " jabbar\n"
          ]
        }
      ]
    },
    {
      "cell_type": "markdown",
      "source": [
        "# 33. removesuffix()\n",
        "The removesuffix() method in Python is used to remove a specified suffix from the end of a string. If the string ends with the specified suffix, it returns a new string with the suffix removed. If the string does not end with the specified suffix, it returns the original string unchanged.\n",
        "\n",
        "\n"
      ],
      "metadata": {
        "id": "lK5bTcNbL4tS"
      }
    },
    {
      "cell_type": "code",
      "source": [
        "str=\"Alishba jabbar\"\n",
        "print(str.removesuffix(\"jabbar\"))"
      ],
      "metadata": {
        "colab": {
          "base_uri": "https://localhost:8080/"
        },
        "id": "x3EwmzdNMKPV",
        "outputId": "4f5fed5c-67ce-47cd-8df7-e8898578eb40"
      },
      "execution_count": null,
      "outputs": [
        {
          "output_type": "stream",
          "name": "stdout",
          "text": [
            "Alishba \n"
          ]
        }
      ]
    },
    {
      "cell_type": "markdown",
      "source": [
        "# 34. replace()\n",
        "The replace() method in Python is used to replace occurrences of a specified substring within a string with another substring. This method returns a new string with all instances of the old substring replaced by the new one."
      ],
      "metadata": {
        "id": "6ElDCWUkMkUD"
      }
    },
    {
      "cell_type": "code",
      "source": [
        "str=\"Palwasha\"\n",
        "print(str.replace(\"a\",\"b\"))"
      ],
      "metadata": {
        "colab": {
          "base_uri": "https://localhost:8080/"
        },
        "id": "e44VsOePM2cE",
        "outputId": "bca67e17-65af-46f0-8fb4-75ed29968cc4"
      },
      "execution_count": null,
      "outputs": [
        {
          "output_type": "stream",
          "name": "stdout",
          "text": [
            "Pblwbshb\n"
          ]
        }
      ]
    },
    {
      "cell_type": "markdown",
      "source": [
        "# 35. rfind()\n",
        "The rfind() method in Python is used to find the highest index (i.e., the rightmost occurrence) of a specified substring within a string."
      ],
      "metadata": {
        "id": "ziAuqyMTNPjR"
      }
    },
    {
      "cell_type": "code",
      "source": [
        "str=\"pakistan\"\n",
        "print(str.rfind(\"t\"))"
      ],
      "metadata": {
        "colab": {
          "base_uri": "https://localhost:8080/"
        },
        "id": "6utPEhscNeMB",
        "outputId": "1a81b1ff-be9c-4bc0-faa8-f26397e1d6ff"
      },
      "execution_count": null,
      "outputs": [
        {
          "output_type": "stream",
          "name": "stdout",
          "text": [
            "5\n"
          ]
        }
      ]
    },
    {
      "cell_type": "markdown",
      "source": [
        "# 36. zfill()\n",
        "The zfill() method in Python is used to pad a string with zeros (0) on the left, until it reaches a specified length."
      ],
      "metadata": {
        "id": "o5r-p5tY1pSN"
      }
    },
    {
      "cell_type": "code",
      "source": [
        "str=\"123\"\n",
        "print(str.zfill(8))"
      ],
      "metadata": {
        "colab": {
          "base_uri": "https://localhost:8080/"
        },
        "id": "_E6Nsru110Oc",
        "outputId": "00f3c4ae-0200-4e88-d36b-919e5df50ee0"
      },
      "execution_count": null,
      "outputs": [
        {
          "output_type": "stream",
          "name": "stdout",
          "text": [
            "00000123\n"
          ]
        }
      ]
    },
    {
      "cell_type": "markdown",
      "source": [
        "# 37. swapcase()\n",
        "The .swapcase() method in Python is used to return a new string where all the uppercase letters in the original string are converted to lowercase, and all the lowercase letters are converted to uppercase."
      ],
      "metadata": {
        "id": "5QShQ8vj2aH5"
      }
    },
    {
      "cell_type": "code",
      "source": [
        "str=\"pAkisTAN ZINdabaD\"\n",
        "print(str.swapcase())"
      ],
      "metadata": {
        "colab": {
          "base_uri": "https://localhost:8080/"
        },
        "id": "6NAXfaPe2opT",
        "outputId": "05632908-fdae-43b2-b657-be37e7966ba8"
      },
      "execution_count": null,
      "outputs": [
        {
          "output_type": "stream",
          "name": "stdout",
          "text": [
            "PaKIStan zinDABAd\n"
          ]
        }
      ]
    },
    {
      "cell_type": "markdown",
      "source": [
        "# 38. splitlines()\n",
        "The .splitlines() method in Python splits a string into a list of lines, breaking at line boundaries. A line boundary can be any newline character such as \\n, \\r, or \\r\\n. This method is often used to break multi-line text into individual lines for easier processing."
      ],
      "metadata": {
        "id": "E4omZhp723Qc"
      }
    },
    {
      "cell_type": "code",
      "source": [
        "str=\"I\\nam\\nAlishba\"\n",
        "print(str.splitlines())"
      ],
      "metadata": {
        "colab": {
          "base_uri": "https://localhost:8080/"
        },
        "id": "p5SaFkfr3GOl",
        "outputId": "7251edaf-2312-4dd8-c57f-28ee9ff55d17"
      },
      "execution_count": null,
      "outputs": [
        {
          "output_type": "stream",
          "name": "stdout",
          "text": [
            "['I', 'am', 'Alishba']\n"
          ]
        }
      ]
    },
    {
      "cell_type": "markdown",
      "source": [
        "# 39. rpartition()\n",
        "The .rpartition() method in Python splits a string into three parts, just like the .partition() method, but it searches for the last occurrence of the specified separator."
      ],
      "metadata": {
        "id": "CYNEps4R3Z74"
      }
    },
    {
      "cell_type": "code",
      "source": [
        "str=\"Hello Everyone guys\"\n",
        "print(str.rpartition(\" \"))"
      ],
      "metadata": {
        "colab": {
          "base_uri": "https://localhost:8080/"
        },
        "id": "XQIoATTA37iO",
        "outputId": "8e0b8c30-e589-4a50-f6c4-3619f31d6b20"
      },
      "execution_count": null,
      "outputs": [
        {
          "output_type": "stream",
          "name": "stdout",
          "text": [
            "('Hello Everyone', ' ', 'guys')\n"
          ]
        }
      ]
    },
    {
      "cell_type": "markdown",
      "source": [
        "# 40. rindex()\n",
        "The rindex() method in Python is similar to .rfind(), but instead of returning -1 when the substring is not found, it raises a ValueError."
      ],
      "metadata": {
        "id": "ImBzLEWe4ROS"
      }
    },
    {
      "cell_type": "code",
      "source": [
        "str=\"Alishba jabbar\"\n",
        "print(str.rindex(\"j\"))"
      ],
      "metadata": {
        "colab": {
          "base_uri": "https://localhost:8080/"
        },
        "id": "f8w8CKfe4f4r",
        "outputId": "c77a2e00-86fe-4854-a62f-c435eda8f19c"
      },
      "execution_count": null,
      "outputs": [
        {
          "output_type": "stream",
          "name": "stdout",
          "text": [
            "8\n"
          ]
        }
      ]
    },
    {
      "cell_type": "markdown",
      "source": [
        "# 41. isascii()\n",
        "The isascii() method in Python checks whether all the characters in a string are ASCII characters. It returns True if all characters in the string are part of the ASCII character set (which includes characters with codes in the range 0-127), and False otherwise"
      ],
      "metadata": {
        "id": "1FfruzKL4xnp"
      }
    },
    {
      "cell_type": "code",
      "source": [
        "str=\"hiii\"\n",
        "print(str.isascii())"
      ],
      "metadata": {
        "colab": {
          "base_uri": "https://localhost:8080/"
        },
        "id": "isPgNbr85GBM",
        "outputId": "bc6099de-9f99-46cb-f8f0-98a941e5c9e4"
      },
      "execution_count": null,
      "outputs": [
        {
          "output_type": "stream",
          "name": "stdout",
          "text": [
            "True\n"
          ]
        }
      ]
    },
    {
      "cell_type": "code",
      "source": [
        "str=\"Café\"\n",
        "print(str.isascii())"
      ],
      "metadata": {
        "colab": {
          "base_uri": "https://localhost:8080/"
        },
        "id": "IcHpNY2K5PrJ",
        "outputId": "f8460796-1116-4175-833c-4dd02d39b2ae"
      },
      "execution_count": null,
      "outputs": [
        {
          "output_type": "stream",
          "name": "stdout",
          "text": [
            "False\n"
          ]
        }
      ]
    },
    {
      "cell_type": "markdown",
      "source": [
        "# 42. format()\n",
        "The format() method in Python is used for formatting strings by embedding values inside placeholders ({}). It allows you to insert values into a string in a flexible and readable way."
      ],
      "metadata": {
        "id": "BEe6Gqdn5xVK"
      }
    },
    {
      "cell_type": "code",
      "source": [
        "str=\"Beaut{}\"\n",
        "print(str.format(\"iful\"))"
      ],
      "metadata": {
        "colab": {
          "base_uri": "https://localhost:8080/"
        },
        "id": "femRjbD-6EdW",
        "outputId": "fa96dc44-ffd1-4833-fa0a-420f319389c3"
      },
      "execution_count": null,
      "outputs": [
        {
          "output_type": "stream",
          "name": "stdout",
          "text": [
            "Beautiful\n"
          ]
        }
      ]
    },
    {
      "cell_type": "markdown",
      "source": [
        "# 43. encode()\n",
        "The encode() method in Python is used to convert a string into a sequence of bytes using a specified encoding (default is 'utf-8'). This is useful for tasks like saving text to a file, sending data over a network, or handling data in a specific format that requires byte representation."
      ],
      "metadata": {
        "id": "kzanESQ26ivs"
      }
    },
    {
      "cell_type": "code",
      "source": [
        "str=\"Palwasha\"\n",
        "print(str.encode('utf-8'))"
      ],
      "metadata": {
        "colab": {
          "base_uri": "https://localhost:8080/"
        },
        "id": "6XIHIanj6zar",
        "outputId": "292aee78-6154-4709-8653-fc7376897d26"
      },
      "execution_count": null,
      "outputs": [
        {
          "output_type": "stream",
          "name": "stdout",
          "text": [
            "b'Palwasha'\n"
          ]
        }
      ]
    },
    {
      "cell_type": "markdown",
      "source": [
        "# 44. rjust()\n",
        "The rjust() method in Python returns a new string that is right-aligned in a field of a specified width."
      ],
      "metadata": {
        "id": "DL__38zz7H7I"
      }
    },
    {
      "cell_type": "code",
      "source": [
        "str=\"hello world\"\n",
        "print(str.rjust(20, '-'))"
      ],
      "metadata": {
        "colab": {
          "base_uri": "https://localhost:8080/"
        },
        "id": "R4gWzqRY7sb7",
        "outputId": "9b4b6d38-4367-4769-ed34-919cf3fb824b"
      },
      "execution_count": null,
      "outputs": [
        {
          "output_type": "stream",
          "name": "stdout",
          "text": [
            "---------hello world\n"
          ]
        }
      ]
    },
    {
      "cell_type": "markdown",
      "source": [
        "# 45. rsplit()\n",
        "The rsplit() method in Python splits a string into a list, starting from the right (i.e., from the end of the string) and working toward the beginning. It behaves like .split(), but begins splitting from the right side."
      ],
      "metadata": {
        "id": "QaiUnNYD8EgQ"
      }
    },
    {
      "cell_type": "code",
      "source": [
        "str=\"python string methods\"\n",
        "print(str.rsplit(' ', 3))"
      ],
      "metadata": {
        "colab": {
          "base_uri": "https://localhost:8080/"
        },
        "id": "-9XhSH3N9KKv",
        "outputId": "8dcf1009-de4c-440a-f456-0982b321231e"
      },
      "execution_count": null,
      "outputs": [
        {
          "output_type": "stream",
          "name": "stdout",
          "text": [
            "['python', 'string', 'methods']\n"
          ]
        }
      ]
    }
  ]
}